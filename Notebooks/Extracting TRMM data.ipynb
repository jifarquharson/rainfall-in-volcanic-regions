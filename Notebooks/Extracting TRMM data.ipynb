{
 "cells": [
  {
   "cell_type": "code",
   "execution_count": 2,
   "metadata": {},
   "outputs": [
    {
     "name": "stdout",
     "output_type": "stream",
     "text": [
      "/Users/jamiefarquharson/Desktop/RSMAS/Eruption_ntbk\n",
      "'data' directory already exists'\n",
      "'figures' directory already exists'\n"
     ]
    }
   ],
   "source": [
    "'''\n",
    "filepath will point to current location of the Jupyter Notebook. Creates a folder for downloading data into, and another for figures.\n",
    "'''\n",
    "import os\n",
    "from os import path\n",
    "os.getcwd()\n",
    "!pwd\n",
    "if not os.path.exists('data'):\n",
    "    os.mkdir('data')\n",
    "else:\n",
    "    print(\"'data' directory already exists'\")\n",
    "if not os.path.exists('figures'):\n",
    "    os.mkdir('figures')\n",
    "else:\n",
    "    print(\"'figures' directory already exists'\")\n",
    "filepath = os.getcwd()"
   ]
  },
  {
   "cell_type": "code",
   "execution_count": 63,
   "metadata": {},
   "outputs": [
    {
     "name": "stdout",
     "output_type": "stream",
     "text": [
      "All packages imported\n"
     ]
    }
   ],
   "source": [
    "'''\n",
    "Import packages\n",
    "'''\n",
    "from netCDF4 import Dataset\n",
    "import numpy as np\n",
    "\n",
    "import matplotlib.pyplot as plt\n",
    "import matplotlib.ticker as ticker\n",
    "from matplotlib import patheffects, rc, rcParams\n",
    "from matplotlib.ticker import LogFormatterExponent\n",
    "import matplotlib as matplotlib\n",
    "\n",
    "plt.rcParams[\"font.family\"] = 'serif'\n",
    "rcParams['font.family'] = 'sans-serif'\n",
    "rcParams['font.sans-serif'] = ['Computer Modern Sans serif']\n",
    "rcParams['font.family'] = 'serif'\n",
    "rcParams['font.serif'] = ['Palatino']\n",
    "params = {'text.latex.preamble' : [r'\\usepackage{amsmath}', r'\\usepackage{amssymb}']}\n",
    "plt.rcParams.update(params)\n",
    "rc('font',**{'family':'sans-serif','sans-serif':['Computer Modern Sans serif']})\n",
    "rc('text.latex', preamble=r'\\usepackage{cmbright}')\n",
    "rc('text', usetex=True)\n",
    "\n",
    "from datetime import datetime, timedelta\n",
    "import datetime as dt\n",
    "import pandas as pd\n",
    "import string as STRING\n",
    "import warnings\n",
    "warnings.filterwarnings('ignore')\n",
    "\n",
    "print(\"All packages imported\")"
   ]
  },
  {
   "cell_type": "code",
   "execution_count": 8,
   "metadata": {},
   "outputs": [],
   "source": [
    "'''\n",
    "Function converts mm input to inches (for plotting figures the correct size).\n",
    "'''\n",
    "\n",
    "def mm2inch(*tupl):\n",
    "    if isinstance(tupl[0], tuple):\n",
    "        return tuple(k*0.0393701 for k in tupl[0])\n",
    "    else:\n",
    "        return tuple(k*0.0393701 for k in tupl)\n",
    "\n",
    "'''\n",
    "Defines a few colours used later\n",
    "'''\n",
    "vir_b = plt.cm.viridis_r(255)\n",
    "vir_g = plt.cm.viridis_r(127.5)\n",
    "vir_y = plt.cm.viridis_r(0)\n",
    "\n",
    "'''\n",
    "For formatting logarithmic axis labels\n",
    "'''\n",
    "class LogFormatterTexTextMode(LogFormatterExponent):\n",
    "    def __call__(self, x, pos=None):\n",
    "        x = LogFormatterExponent.__call__(self, x,pos)\n",
    "        s = r\"10\\textsuperscript{{{}}}\".format(x)\n",
    "        return s"
   ]
  },
  {
   "cell_type": "markdown",
   "metadata": {},
   "source": [
    "## The following code snippets download and extract data from NASA's Earth Observing System Data and Information System \"EARTHDATA\" portal. These data should be cited appropriately (https://doi.org/10.5067/TRMM/TMPA/3H/7) ##\n",
    "1. First we create a text file with filenames within a particular date range (set via ```start_date``` and ```end_date```);\n",
    "2. The data files are then downloaded iteratively into the ```data``` folder. Note that you may not want to store these files locally. In this case, you should modify the query to use the ```OPeNDAP``` format rather than downloading hundreds of large ```NetCDF``` files;\n",
    "3. The rainfall information is extracted from files."
   ]
  },
  {
   "cell_type": "code",
   "execution_count": 10,
   "metadata": {},
   "outputs": [],
   "source": [
    "'''\n",
    "Generate 'data_url.txt' file with list of urls required for data download. The default is to download all data from 01 Mar 2000 up until yesterday. \n",
    "A window of dates can be entered instead, for example: \n",
    "\n",
    "data_range(first=dt.date(2018, 12, 15), last=dt.date(2018,12,18))\n",
    "\n",
    "'''\n",
    "if os.getcwd() != filepath+'/data':\n",
    "    %cd $filepath/data\n",
    "\n",
    "prefix = 'https://disc2.gesdisc.eosdis.nasa.gov/data/TRMM_RT/TRMM_3B42RT_Daily.7/'\n",
    "\n",
    "suffix = '.7.nc4\\n'\n",
    "\n",
    "yesterday = dt.date.today() - timedelta(1)\n",
    "\n",
    "start_date = dt.date(2000, 3, 1)\n",
    "end_date = dt.date(2019, 12, 31)\n",
    "\n",
    "def data_range_string(first = None, last = end_date):\n",
    "    data_dates = last - first\n",
    "    for j in range(data_dates.days + 1):\n",
    "        yield (first + timedelta(days = j)).strftime('%Y/%m')+'/3B42RT_Daily.'+(first + timedelta(days = j)).strftime('%Y%m%d')\n",
    "\n",
    "\n",
    "string_list = list(data_range_string(first = start_date))#, last=dt.date(2018,12,18)))\n",
    "\n",
    "with open(\"data_url.txt\", \"w\") as output:\n",
    "    for line in list([ prefix+x+suffix for x in string_list ]):\n",
    "        output.write(str(line))"
   ]
  },
  {
   "cell_type": "code",
   "execution_count": 11,
   "metadata": {},
   "outputs": [
    {
     "name": "stdout",
     "output_type": "stream",
     "text": [
      "Data retrieved\n"
     ]
    }
   ],
   "source": [
    "'''\n",
    "Access and download data files specified in data_url using wget. Will skip previously downloaded files.\n",
    "\n",
    "Note: despite -nv, will be verbose if large number of new datafiles are being accessed. \n",
    "Right-click on cell and Enable Scrolling for Outputs, if necessary. One can change -nv to -q, but it may be useful to have some output.\n",
    "'''\n",
    "if os.getcwd() != filepath+'/data':\n",
    "    %cd $filepath/data\n",
    "!wget -nv -i data_url.txt -nc -c \n",
    "print('Data retrieved')"
   ]
  },
  {
   "cell_type": "code",
   "execution_count": 12,
   "metadata": {},
   "outputs": [
    {
     "name": "stdout",
     "output_type": "stream",
     "text": [
      "Dates available : 2000-03-01 to 2019-12-31\n"
     ]
    }
   ],
   "source": [
    "import datetime as dt\n",
    "'''\n",
    "Opens textfile with list of data urls. Removes useless characters and returns a list of filenames for later use, as well as a list of dates. \n",
    "'''\n",
    "if os.getcwd() != filepath+'/data':\n",
    "    %cd $filepath/data\n",
    "datafile = 'data_url.txt'\n",
    "f = open(datafile)\n",
    "f.seek(0)\n",
    "fileIDs = f.readlines()\n",
    "f.close()\n",
    "fileIDs = [line.rstrip('\\n') for line in fileIDs]\n",
    "fileIDs = [line.lstrip(prefix) for line in fileIDs]\n",
    "file_list =[]\n",
    "for j,k in enumerate(fileIDs):\n",
    "    text = fileIDs[j]\n",
    "    if text.endswith('nc4'):    # Only deals with files that are netcdf format\n",
    "        file_list.append(fileIDs[j][7:])\n",
    "    else:\n",
    "        continue\n",
    "file_names = []\n",
    "for j,k in enumerate(file_list):\n",
    "    file_names.append(file_list[j][13:21])\n",
    "fd =[]\n",
    "for j,k in enumerate(file_names):\n",
    "    fd.append(file_names[j][0:4]+'-'+file_names[j][4:6]+'-'+file_names[j][6:])\n",
    "file_dates = [dt.datetime.strptime(k, '%Y-%m-%d').date() for k in fd]\n",
    "print(\"Dates available : {} to {}\".format(file_dates[0], file_dates[-1]))"
   ]
  },
  {
   "cell_type": "code",
   "execution_count": 13,
   "metadata": {},
   "outputs": [
    {
     "name": "stdout",
     "output_type": "stream",
     "text": [
      "01% |  02% |  03% |  04% |  05% |  06% |  07% |  08% |  09% |  10% |  11% |  12% |  13% |  14% |  15% |  16% |  17% |  18% |  19% |  20% |  21% |  22% |  23% |  24% |  25% |  26% |  27% |  28% |  29% |  30% |  31% |  32% |  33% |  34% |  35% |  36% |  37% |  38% |  39% |  40% |  41% |  42% |  43% |  44% |  45% |  46% |  47% |  48% |  49% |  50% |  51% |  52% |  53% |  54% |  55% |  56% |  57% |  58% |  59% |  60% |  61% |  62% |  63% |  64% |  65% |  66% |  67% |  68% |  69% |  70% |  71% |  72% |  73% |  74% |  75% |  76% |  77% |  78% |  79% |  80% |  81% |  82% |  83% |  84% |  85% |  86% |  87% |  88% |  89% |  90% |  91% |  92% |  93% |  94% |  95% |  96% |  97% |  98% |  99% |  100% |  7245 dates\n"
     ]
    }
   ],
   "source": [
    "'''\n",
    "Open netcdf files and extract information.\n",
    "'''\n",
    "\n",
    "if os.getcwd() != filepath+'/data':\n",
    "    %cd $filepath/data\n",
    "    \n",
    "ncFid = Dataset(file_list[0],\"r\", format = \"NETCDF4\") # Open just the first file to extract latitude and longitude data\n",
    "longitude = ncFid.variables['lon'][:]\n",
    "latitude = ncFid.variables['lat'][:]\n",
    "ncFid.close() # Close file once done\n",
    "\n",
    "precipitation = [] # Create precipitation variable\n",
    "start_dates = [] # Create date variable\n",
    "m = -1\n",
    "for j,k in enumerate(file_list): # Interrogates file_list as defined above\n",
    "    ncFid = Dataset(file_list[j],\"r\", format = \"NETCDF4\")\n",
    "    precipitation.append(np.transpose(ncFid.variables['precipitation'][:])) # Iteratively append precipitation data\n",
    "    start_dates.append(np.transpose(ncFid.BeginDate)) # Iteratively append date information\n",
    "    ncFid.close() # Close file before opening next\n",
    "    if j % int(np.ceil(len(file_list)/100)) == 0:\n",
    "        m += 1\n",
    "        print('{:02d}% | '.format(np.arange(1,101)[m]), sep=' ', end=' ', flush=True)\n",
    "print(\"{} dates\".format(len(precipitation)))        "
   ]
  },
  {
   "cell_type": "code",
   "execution_count": 14,
   "metadata": {},
   "outputs": [],
   "source": [
    "file_dates = file_dates[0:len(precipitation)]"
   ]
  },
  {
   "cell_type": "markdown",
   "metadata": {},
   "source": [
    "## This script was initially written with the view of investigating rainfall in volcanic environments (see, e.g., https://doi.org/10.1038/s41586-020-2172-5). The following code blocks access the most up-to-date volcano information from the Smithsonian Institution (https://volcano.si.edu/volcano.cfm?vn=332010). Latitude and longitude data for a given volcano of interest are extracted for use later."
   ]
  },
  {
   "cell_type": "code",
   "execution_count": 17,
   "metadata": {},
   "outputs": [
    {
     "name": "stdout",
     "output_type": "stream",
     "text": [
      "--2021-01-12 15:34:06--  https://webservices.volcano.si.edu/geoserver/GVP-VOTW/ows?service=WFS&version=1.0.0&request=GetFeature&typeName=GVP_VOTW:Smithsonian_VOTW_Holocene_Eruptions&outputFormat=csv\n",
      "Resolving webservices.volcano.si.edu (webservices.volcano.si.edu)... 160.111.244.27\n",
      "Connecting to webservices.volcano.si.edu (webservices.volcano.si.edu)|160.111.244.27|:443... connected.\n",
      "HTTP request sent, awaiting response... 200 OK\n",
      "Length: unspecified [text/csv]\n",
      "Saving to: ‘Holocene_eruptions.csv’\n",
      "\n",
      "Holocene_eruptions.     [              <=>   ]   2.02M   702KB/s    in 3.0s    \n",
      "\n",
      "2021-01-12 15:34:09 (702 KB/s) - ‘Holocene_eruptions.csv’ saved [2123164]\n",
      "\n",
      "--2021-01-12 15:34:09--  https://webservices.volcano.si.edu/geoserver/GVP-VOTW/ows?service=WFS&version=1.0.0&request=GetFeature&typeName=GVP_VOTW:Smithsonian_VOTW_Holocene_Volcanoes&outputFormat=csv\n",
      "Resolving webservices.volcano.si.edu (webservices.volcano.si.edu)... 160.111.244.27\n",
      "Connecting to webservices.volcano.si.edu (webservices.volcano.si.edu)|160.111.244.27|:443... connected.\n",
      "HTTP request sent, awaiting response... 200 OK\n",
      "Length: unspecified [text/csv]\n",
      "Saving to: ‘Holocene_volcanoes.csv’\n",
      "\n",
      "Holocene_volcanoes.     [            <=>     ]   2.05M   408KB/s    in 4.7s    \n",
      "\n",
      "2021-01-12 15:34:14 (446 KB/s) - ‘Holocene_volcanoes.csv’ saved [2147631]\n",
      "\n",
      "1419 volcano entries found, with a total of 11027 eruptions.\n",
      "913 distinct volcanoes identified.\n"
     ]
    }
   ],
   "source": [
    "'''\n",
    "Accesses the most recent GVP volcanoes eruptions lists, saves them as csv files: \"Holocene_volcanoes\" and \"Holocene_eruptions\".\n",
    "'''\n",
    "!wget --no-check-certificate --output-document Holocene_eruptions.csv \"https://webservices.volcano.si.edu/geoserver/GVP-VOTW/ows?service=WFS&version=1.0.0&request=GetFeature&typeName=GVP_VOTW:Smithsonian_VOTW_Holocene_Eruptions&outputFormat=csv\"\n",
    "!wget --no-check-certificate --output-document Holocene_volcanoes.csv \"https://webservices.volcano.si.edu/geoserver/GVP-VOTW/ows?service=WFS&version=1.0.0&request=GetFeature&typeName=GVP_VOTW:Smithsonian_VOTW_Holocene_Volcanoes&outputFormat=csv\"\n",
    "\n",
    "'''\n",
    "Read the downloaded csv file(s) into dataframe(s)\n",
    "'''\n",
    "volcano_list = pd.read_csv(\"Holocene_volcanoes.csv\")\n",
    "eruption_list = pd.read_csv(\"Holocene_eruptions.csv\")\n",
    "volcanoes = list(set(eruption_list.Volcano_Name))\n",
    "print('{} volcano entries found, with a total of {} eruptions.\\n{} distinct volcanoes identified.'.format(\n",
    "    len(volcano_list),len(eruption_list),len(volcanoes)))                           "
   ]
  },
  {
   "cell_type": "code",
   "execution_count": 18,
   "metadata": {},
   "outputs": [
    {
     "name": "stdout",
     "output_type": "stream",
     "text": [
      "Done\n",
      "and\n",
      "Done\n"
     ]
    }
   ],
   "source": [
    "'''\n",
    "Extracts latitude and longitude data for each volcano in 'volcano_list' [formatted in the dataframe as 'POINT (x.xx x.xxx)'] (WKT format?).\n",
    "Updates dataframe with extracted coordinates.\n",
    "'''\n",
    "\n",
    "lons = []\n",
    "lats = []\n",
    "for j,k in enumerate(volcano_list.GeoLocation):\n",
    "    lons.append(float(k[7:-1].split()[0])) # Extracts longitude as string, converts to float\n",
    "    lats.append(float(k[7:-1].split()[1])) # Extracts latitude as string, converts to float\n",
    "volcano_list['lats'] = lats # Adds latitudes to original dataframe\n",
    "volcano_list['lons'] = lons # Adds longitudes to original dataframe\n",
    "print('Done\\nand')\n",
    "\n",
    "'''\n",
    "Coordinates ready for plotting\n",
    "'''\n",
    "locations = volcano_list[['lats', 'lons']]\n",
    "locationlist = locations.values.tolist\n",
    "print('Done')"
   ]
  },
  {
   "cell_type": "code",
   "execution_count": 19,
   "metadata": {},
   "outputs": [],
   "source": [
    "'''\n",
    "Creates dataframe with eruption information for all active volcanoes\n",
    "'''\n",
    "volcano_countries = volcano_list.set_index('Country')\n",
    "all_active_volcanoes = pd.merge(eruption_list,volcano_countries, how = 'inner', on = ['Volcano_Name'])\n",
    "\n",
    "'''\n",
    "Dataframe contains Name, lat, and lon of each eruptive volcano\n",
    "'''\n",
    "\n",
    "volcano_set_name = []\n",
    "volcano_set_lat = []\n",
    "volcano_set_lon = []\n",
    "\n",
    "for j, k in enumerate(all_active_volcanoes.Volcano_Name):\n",
    "    if k not in volcano_set_name:\n",
    "        volcano_set_name.append(k)\n",
    "        volcano_set_lat.append(all_active_volcanoes.lats[j])\n",
    "        volcano_set_lon.append(all_active_volcanoes.lons[j])\n",
    "\n",
    "volcano_set = pd.DataFrame({'Name' :volcano_set_name,'lat' : volcano_set_lat, 'lon' : volcano_set_lon})\n",
    "volcano_set.set_index('Name', inplace = True)"
   ]
  },
  {
   "cell_type": "code",
   "execution_count": 20,
   "metadata": {},
   "outputs": [],
   "source": [
    "'''\n",
    "Data are not infinite, so these lambda functions determine the latitude and longitute in the NCDF4 file(s) that\n",
    "are *closest* to the precise coordinates of a given volcano. Volcano coordinates are defined above (lat_volc, lon_volc),\n",
    "and typically correspond to the summit or centre of the caldera region.\n",
    "'''\n",
    "name_volc = 'Pacaya'\n",
    "lat_volc = volcano_set.loc[[name_volc]].lat.values[0]\n",
    "lon_volc = volcano_set.loc[[name_volc]].lon.values[0]\n",
    "\n",
    "j_volc = min(longitude, key=lambda x:abs(x-lon_volc))\n",
    "i_volc = min(latitude, key=lambda x:abs(x-lat_volc))"
   ]
  },
  {
   "cell_type": "code",
   "execution_count": 21,
   "metadata": {},
   "outputs": [],
   "source": [
    "'''\n",
    "Append precipitation data from TRMM/ GPM data for geolocation \n",
    "(i.e. lat/lon defined by i_volc and j_volc.)\n",
    "'''\n",
    "rainfall = []\n",
    "for j,k in enumerate(precipitation):\n",
    "    rainfall.append(precipitation[j][list(latitude).index(i_volc)][list(longitude).index(j_volc)])"
   ]
  },
  {
   "cell_type": "code",
   "execution_count": 22,
   "metadata": {},
   "outputs": [],
   "source": [
    "'''\n",
    "Rainfall added to datafraame\n",
    "'''\n",
    "rain_dates = pd.DataFrame( # dataframe containing \"pentad\" data (five-day running mean), for later use\n",
    "    {'date':file_dates[:],\n",
    "     'rainfall': rainfall\n",
    "    })\n",
    "j = 5\n",
    "pentads = rain_dates.rainfall.rolling(j).mean()\n",
    "pentads.fillna(0, inplace=True)\n",
    "rainfall_m=rain_dates.rainfall/1e3 # rainfall in meters"
   ]
  },
  {
   "cell_type": "code",
   "execution_count": 23,
   "metadata": {},
   "outputs": [
    {
     "data": {
      "text/html": [
       "<div>\n",
       "<style scoped>\n",
       "    .dataframe tbody tr th:only-of-type {\n",
       "        vertical-align: middle;\n",
       "    }\n",
       "\n",
       "    .dataframe tbody tr th {\n",
       "        vertical-align: top;\n",
       "    }\n",
       "\n",
       "    .dataframe thead th {\n",
       "        text-align: right;\n",
       "    }\n",
       "</style>\n",
       "<table border=\"1\" class=\"dataframe\">\n",
       "  <thead>\n",
       "    <tr style=\"text-align: right;\">\n",
       "      <th></th>\n",
       "      <th>date</th>\n",
       "      <th>monthly_cumulative_mm</th>\n",
       "      <th>daily_rainfall_mm</th>\n",
       "      <th>mnth_yr</th>\n",
       "      <th>mnth</th>\n",
       "      <th>day</th>\n",
       "      <th>year</th>\n",
       "      <th>masked</th>\n",
       "    </tr>\n",
       "    <tr>\n",
       "      <th>date</th>\n",
       "      <th></th>\n",
       "      <th></th>\n",
       "      <th></th>\n",
       "      <th></th>\n",
       "      <th></th>\n",
       "      <th></th>\n",
       "      <th></th>\n",
       "      <th></th>\n",
       "    </tr>\n",
       "  </thead>\n",
       "  <tbody>\n",
       "    <tr>\n",
       "      <th>2000-03-01</th>\n",
       "      <td>2000-03-01</td>\n",
       "      <td>0.63</td>\n",
       "      <td>0.63</td>\n",
       "      <td>2000-03</td>\n",
       "      <td>3</td>\n",
       "      <td>61</td>\n",
       "      <td>2000</td>\n",
       "      <td>NaN</td>\n",
       "    </tr>\n",
       "    <tr>\n",
       "      <th>2000-03-02</th>\n",
       "      <td>2000-03-02</td>\n",
       "      <td>2.16</td>\n",
       "      <td>1.53</td>\n",
       "      <td>2000-03</td>\n",
       "      <td>3</td>\n",
       "      <td>62</td>\n",
       "      <td>2000</td>\n",
       "      <td>NaN</td>\n",
       "    </tr>\n",
       "  </tbody>\n",
       "</table>\n",
       "</div>"
      ],
      "text/plain": [
       "                 date  monthly_cumulative_mm  daily_rainfall_mm  mnth_yr  \\\n",
       "date                                                                       \n",
       "2000-03-01 2000-03-01                   0.63               0.63  2000-03   \n",
       "2000-03-02 2000-03-02                   2.16               1.53  2000-03   \n",
       "\n",
       "            mnth  day  year  masked  \n",
       "date                                 \n",
       "2000-03-01     3   61  2000     NaN  \n",
       "2000-03-02     3   62  2000     NaN  "
      ]
     },
     "execution_count": 23,
     "metadata": {},
     "output_type": "execute_result"
    }
   ],
   "source": [
    "''' \n",
    "Creates and fills the \"raindf\" dataframe, which stores much of the information required for further time-series analysis etc. \n",
    "'''\n",
    "raindf = pd.DataFrame(\n",
    "    {'date':file_dates, ##\n",
    "     'monthly_cumulative_mm': rainfall\n",
    "    })\n",
    "raindf.date = pd.to_datetime(raindf.date)\n",
    "raindf = raindf.groupby('date').monthly_cumulative_mm.max()\n",
    "raindf = raindf.groupby(raindf.index.to_period('M')).cumsum().reset_index()\n",
    "raindf['daily_rainfall_mm'] = rainfall\n",
    "raindf['mnth_yr'] = raindf.date.dt.to_period('M')\n",
    "raindf['mnth'] = raindf.date.dt.month\n",
    "raindf['day'] = raindf.date.dt.dayofyear\n",
    "raindf['year'] = raindf.date.dt.year\n",
    "\n",
    "threshold = 10\n",
    "raindf['masked'] = raindf.monthly_cumulative_mm.mask(raindf.monthly_cumulative_mm < threshold)\n",
    "raindf.index = raindf['date']\n",
    "raindf[0:2]"
   ]
  },
  {
   "cell_type": "code",
   "execution_count": 24,
   "metadata": {},
   "outputs": [
    {
     "name": "stdout",
     "output_type": "stream",
     "text": [
      "Done\n"
     ]
    }
   ],
   "source": [
    "'''\n",
    "Total monthly rainfall values are calculated from 'raindf' and added to a new dataframe 'mnth_raindf'.\n",
    "'''\n",
    "year_mnth = sorted(set(raindf.mnth_yr))\n",
    "monthly_sum = raindf.daily_rainfall_mm.groupby(raindf.mnth_yr).sum()\n",
    "'''\n",
    "Creates dataframe to manipulate monthly data\n",
    "'''\n",
    "mnth_raindf = pd.DataFrame(\n",
    "    {'year_mnth':year_mnth,\n",
    "     'monthly_sum':monthly_sum\n",
    "    })\n",
    "mnth_raindf.index = mnth_raindf.index.to_timestamp()\n",
    "\n",
    "avgs = []\n",
    "for k in (mnth_raindf.index.month):\n",
    "    avgs.append(mnth_raindf.loc[mnth_raindf.index.month == k].monthly_sum.mean())\n",
    "mnth_raindf['avg'] = avgs\n",
    "mnth_raindf['differ'] = mnth_raindf.monthly_sum - mnth_raindf.avg\n",
    "print(\"Done\")"
   ]
  },
  {
   "cell_type": "code",
   "execution_count": 38,
   "metadata": {},
   "outputs": [
    {
     "data": {
      "image/png": "[encoded data removed]",
      "text/plain": [
       "<Figure size 1417.32x472.441 with 1 Axes>"
      ]
     },
     "metadata": {
      "needs_background": "light"
     },
     "output_type": "display_data"
    }
   ],
   "source": [
    "fig = plt.figure(figsize=mm2inch(180, 60), dpi = 200) ## initiate figure \n",
    "ax = fig.add_subplot(111)\n",
    "ax.plot(raindf.daily_rainfall_mm, color = \"k\")\n",
    "ax.set(ylabel = \"Daily rainfall [mm]\",\n",
    "      xlabel = \"Date\",\n",
    "      ylim = [0,350],\n",
    "       xlim = [min(file_dates),max(file_dates)],\n",
    "      title = name_volc)\n",
    "plt.show()"
   ]
  },
  {
   "cell_type": "markdown",
   "metadata": {},
   "source": [
    "**Figure 1 |** Rainfall over volcano of interest."
   ]
  },
  {
   "cell_type": "code",
   "execution_count": 34,
   "metadata": {},
   "outputs": [],
   "source": [
    "'''\n",
    "Calculates cumulative rainfall amounts for rolling windows of 30, 90, 120, and 180 days.\n",
    "Not necessary unless further processing of the data is required.\n",
    "'''\n",
    "\n",
    "rainfalldf = pd.DataFrame({\"date\": file_dates, \"rain\": rainfall})\n",
    "\n",
    "rainfalldf[\"roll30\"] = rainfalldf.rain.rolling(30).sum()\n",
    "rainfalldf[\"roll90\"] = rainfalldf.rain.rolling(90).sum()\n",
    "rainfalldf[\"roll120\"] = rainfalldf.rain.rolling(120).sum()\n",
    "rainfalldf[\"roll180\"] = rainfalldf.rain.rolling(180).sum()\n",
    "\n",
    "rainfalldf[\"log30\"] = np.log(rainfalldf.roll30)\n",
    "rainfalldf[\"log90\"] = np.log(rainfalldf.roll90)\n",
    "rainfalldf[\"log180\"] = np.log(rainfalldf.roll180)\n",
    "\n",
    "rainfalldf[\"cum\"] = rainfalldf.rain.cumsum() "
   ]
  },
  {
   "cell_type": "code",
   "execution_count": 42,
   "metadata": {},
   "outputs": [],
   "source": [
    "''' Create a buffer path effect for plotting '''\n",
    "# from matplotlib import patheffects\n",
    "buffer = [patheffects.withStroke(linewidth=.85, foreground=\"w\")]"
   ]
  },
  {
   "cell_type": "code",
   "execution_count": 62,
   "metadata": {},
   "outputs": [
    {
     "data": {
      "image/png": "[encoded data removed]",
      "text/plain": [
       "<Figure size 2161.42x354.331 with 2 Axes>"
      ]
     },
     "metadata": {
      "needs_background": "light"
     },
     "output_type": "display_data"
    }
   ],
   "source": [
    "'''\n",
    "Plots Figure 2 based on processed rainfall data.\n",
    "'''\n",
    "fig = plt.figure(figsize=mm2inch(183, 30), dpi = 300) ## initiate figure \n",
    "gs = plt.GridSpec(1, 6, figure=fig, wspace=0.1) ## define axes \n",
    "locmaj = matplotlib.ticker.LogLocator(base=10,numticks=12) ## set up logarithmic axis options\n",
    "locmin = matplotlib.ticker.LogLocator(base=10.0,subs=(np.arange(0.1,1,0.1)),numticks=12)\n",
    "\n",
    "axs = [fig.add_subplot((gs[0, :-1])), ## add axes to figure\n",
    "        fig.add_subplot(gs[0, -1]),\n",
    "       ]\n",
    "\n",
    "ys = np.arange(-2000,2100,0.5)\n",
    "xax1 = [\"2018-01-01\" for y in ys]\n",
    "xax2 = [\"2018-03-31\" for y in ys]\n",
    "\n",
    "################ panel a ###############\n",
    "## bar chart of daily rainfall \n",
    "axs[0].bar(file_dates,rainfall_m,\n",
    "           color=\"dodgerblue\",\n",
    "           linewidth = .5,\n",
    "           edgecolor = \"dodgerblue\",alpha =0.8)\n",
    "axs[0].set_xlim(min(file_dates), max(file_dates))\n",
    "axs[0].set_ylim(0, .35)#max(rainfall_m))\n",
    "axs[0].set_ylabel('Daily total\\nrainfall [m]')\n",
    "axs[0].set_yticks([0,.25])\n",
    "axs[0].spines['right'].set_visible(False)\n",
    "ticks_y = ticker.FuncFormatter(lambda x, pos: '{0:g}'.format(x))\n",
    "axs[0].yaxis.set_major_formatter(ticks_y)\n",
    "axs[0].xaxis.tick_top()\n",
    "axs[0].xaxis.set_label_position('top') \n",
    "axs[0].set_xlim(\"2000-01-01\", \"2019-10-01\")\n",
    "axs[0].minorticks_on()\n",
    "################ panel a ###############\n",
    "\n",
    "############### panel b ###############\n",
    "## Processes rainfall time-series and plots as a power spectrum.\n",
    "A = np.fft.fft(pentads) ## Fast Fourier transform\n",
    "B = np.abs(A)**2\n",
    "\n",
    "n = pentads.size\n",
    "freq = np.fft.fftfreq(n, d= 1/365.25) ## Fast Fourier transform\n",
    "k = freq > 0\n",
    "\n",
    "axs[1].set_xlim(0.1,100)\n",
    "axs[1].set_ylim(0,1.1)\n",
    "axs[1].step(freq[k],B[k]/max(B[k]),\n",
    "            color = 'dodgerblue',\n",
    "            linestyle = 'solid',\n",
    "            linewidth =1, alpha = 0.95, where = 'mid') # Normalised power versus frequency\n",
    "plt.minorticks_on()\n",
    "\n",
    "axs[1].set_ylabel(\"Normalised power\", rotation = 270, labelpad = 15)\n",
    "axs[1].set_xlabel(r'Frequency [yr$^{-1}$]', labelpad = 10)\n",
    "\n",
    "ticks_y = ticker.FuncFormatter(lambda x, pos: '{0:g}'.format(x))\n",
    "axs[1].yaxis.set_major_formatter(ticks_y)\n",
    "axs[1].xaxis.set_major_formatter(ticks_y)\n",
    "\n",
    "axs[1].xaxis.tick_top()\n",
    "axs[1].xaxis.set_label_position('top') \n",
    "axs[1].yaxis.tick_right()\n",
    "axs[1].yaxis.set_label_position('right') \n",
    "axs[1].set_xscale(\"log\")\n",
    "axs[1].xaxis.set_major_formatter(LogFormatterTexTextMode())\n",
    "axs[1].xaxis.set_major_locator(locmaj)\n",
    "axs[1].xaxis.set_minor_locator(locmin)\n",
    "axs[1].xaxis.set_minor_formatter(matplotlib.ticker.NullFormatter())\n",
    "axs[1].set_xticks([0.1,1,10,100])\n",
    "\n",
    "axs[1].spines[\"left\"].set_visible(False)\n",
    "################ panel b ###############\n",
    "\n",
    "\n",
    "\n",
    "## Add axis labels and clean up plot\n",
    "for num, label in enumerate(STRING.ascii_lowercase[0:2]):\n",
    "    axs[num].annotate(label, (0, 1),xytext=(4, -4),\n",
    "                      xycoords='axes fraction',textcoords='offset points',\n",
    "    color='k',fontsize = 12, path_effects = buffer,ha='left', va='top', zorder = 1000)\n",
    "\n",
    "plt.tight_layout()\n",
    "# plt.savefig(filepath+\"/figures/{}_rainfall.png\".format(name_volc), bbox_inches=\"tight\") ## save figure as image format\n",
    "# plt.savefig(filepath+\"/figures/{}_rainfall.pdf\".format(name_volc), bbox_inches=\"tight\") ## save figure as vector format\n",
    "\n",
    "plt.show()\n"
   ]
  },
  {
   "cell_type": "markdown",
   "metadata": {},
   "source": [
    "**Figure 2 |** Rainfall over volcano of interest. a Satellite-derived daily rainfall amount from Mar 2000 to July 2019 (TRMM/GPM data). b Power spectrum of Fourier-transformed rainfall time-series (a) shown in the (normalised) power–frequency domain."
   ]
  },
  {
   "cell_type": "code",
   "execution_count": 81,
   "metadata": {},
   "outputs": [
    {
     "data": {
      "image/png": "[encoded data removed]",
      "text/plain": [
       "<Figure size 531.496x531.496 with 1 Axes>"
      ]
     },
     "metadata": {
      "needs_background": "light"
     },
     "output_type": "display_data"
    }
   ],
   "source": [
    "fig = plt.figure(figsize=mm2inch(45, 45), dpi = 300) ## initiate figure \n",
    "ax = fig.add_subplot(111)\n",
    "plt.step(freq[k],B[k]/max(B[k]),\n",
    "            color = 'midnightblue',\n",
    "            linestyle = 'solid',\n",
    "            linewidth =1, alpha = 0.95, where = 'mid')\n",
    "plt.yscale(\"log\")\n",
    "plt.xscale(\"log\")\n",
    "for i in range(4):\n",
    "    plt.axvline(i, color = \"r\", zorder = 0, lw = 1.5, alpha = .5)\n",
    "\n",
    "plt.minorticks_on()\n",
    "\n",
    "ax.set_ylabel(\"Normalised power\")\n",
    "ax.set_xlabel(r'Frequency [yr$^{-1}$]', labelpad = 10)\n",
    "\n",
    "ticks_x = ticker.FuncFormatter(lambda x, pos: '{0:g}'.format(x))\n",
    "ax.xaxis.set_major_formatter(ticks_x)\n",
    "ax.set_ylim(1e-6, 1e1)\n",
    "\n",
    "ax.yaxis.set_major_formatter(LogFormatterTexTextMode())\n",
    "ax.yaxis.set_major_locator(locmaj)\n",
    "ax.yaxis.set_minor_locator(locmin)\n",
    "ax.yaxis.set_minor_formatter(matplotlib.ticker.NullFormatter())\n",
    "ax.set_xticks([1,2,3])\n",
    "\n",
    "plt.show()"
   ]
  },
  {
   "cell_type": "markdown",
   "metadata": {},
   "source": [
    "**Figure 3 |**  Power spectrum of Fourier-transformed rainfall time-series shown in the (normalised) power–frequency domain. In this example (Pacaya), a significant annual periodicity can be seen, as well as subordinate semiannual periodicity."
   ]
  },
  {
   "cell_type": "code",
   "execution_count": null,
   "metadata": {},
   "outputs": [],
   "source": []
  }
 ],
 "metadata": {
  "kernelspec": {
   "display_name": "Python 3",
   "language": "python",
   "name": "python3"
  },
  "language_info": {
   "codemirror_mode": {
    "name": "ipython",
    "version": 3
   },
   "file_extension": ".py",
   "mimetype": "text/x-python",
   "name": "python",
   "nbconvert_exporter": "python",
   "pygments_lexer": "ipython3",
   "version": "3.6.7"
  }
 },
 "nbformat": 4,
 "nbformat_minor": 2
}
